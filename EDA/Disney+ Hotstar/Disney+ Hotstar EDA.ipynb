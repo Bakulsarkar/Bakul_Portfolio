{
 "cells": [
  {
   "cell_type": "markdown",
   "id": "8c08072e",
   "metadata": {},
   "source": [
    "# Disney+ Hotstar Data Analysis"
   ]
  },
  {
   "cell_type": "markdown",
   "id": "656107e0",
   "metadata": {},
   "source": [
    "Objectives:\n",
    "\n",
    "\n",
    "\n",
    "Data Source:\n",
    "https://www.kaggle.com/datasets/dgoenrique/disney-movies-and-tv-shows"
   ]
  },
  {
   "cell_type": "code",
   "execution_count": 1,
   "id": "ca602888",
   "metadata": {},
   "outputs": [],
   "source": [
    "import numpy as np\n",
    "import pandas as pd\n",
    "import matplotlib.pyplot as plt\n",
    "import seaborn as sns"
   ]
  },
  {
   "cell_type": "code",
   "execution_count": 2,
   "id": "d04c68b3",
   "metadata": {},
   "outputs": [],
   "source": [
    "df1 = pd.read_csv('E:/Data Sciemce/EDA/titles.csv')\n",
    "df2 = pd.read_csv('E:/Data Sciemce/EDA/credits.csv')"
   ]
  },
  {
   "cell_type": "code",
   "execution_count": 3,
   "id": "b0f90b78",
   "metadata": {},
   "outputs": [
    {
     "data": {
      "text/html": [
       "<div>\n",
       "<style scoped>\n",
       "    .dataframe tbody tr th:only-of-type {\n",
       "        vertical-align: middle;\n",
       "    }\n",
       "\n",
       "    .dataframe tbody tr th {\n",
       "        vertical-align: top;\n",
       "    }\n",
       "\n",
       "    .dataframe thead th {\n",
       "        text-align: right;\n",
       "    }\n",
       "</style>\n",
       "<table border=\"1\" class=\"dataframe\">\n",
       "  <thead>\n",
       "    <tr style=\"text-align: right;\">\n",
       "      <th></th>\n",
       "      <th>id</th>\n",
       "      <th>title</th>\n",
       "      <th>type</th>\n",
       "      <th>description</th>\n",
       "      <th>release_year</th>\n",
       "      <th>age_certification</th>\n",
       "      <th>runtime</th>\n",
       "      <th>genres</th>\n",
       "      <th>production_countries</th>\n",
       "      <th>seasons</th>\n",
       "      <th>imdb_id</th>\n",
       "      <th>imdb_score</th>\n",
       "      <th>imdb_votes</th>\n",
       "      <th>tmdb_popularity</th>\n",
       "      <th>tmdb_score</th>\n",
       "    </tr>\n",
       "  </thead>\n",
       "  <tbody>\n",
       "    <tr>\n",
       "      <th>0</th>\n",
       "      <td>tm89464</td>\n",
       "      <td>Miracle on 34th Street</td>\n",
       "      <td>MOVIE</td>\n",
       "      <td>Kris Kringle, seemingly the embodiment of Sant...</td>\n",
       "      <td>1947</td>\n",
       "      <td>G</td>\n",
       "      <td>96</td>\n",
       "      <td>['family', 'comedy', 'drama']</td>\n",
       "      <td>['US']</td>\n",
       "      <td>NaN</td>\n",
       "      <td>tt0039628</td>\n",
       "      <td>7.9</td>\n",
       "      <td>50969.0</td>\n",
       "      <td>23.515</td>\n",
       "      <td>7.388</td>\n",
       "    </tr>\n",
       "    <tr>\n",
       "      <th>1</th>\n",
       "      <td>tm61729</td>\n",
       "      <td>The Adventures of Ichabod and Mr. Toad</td>\n",
       "      <td>MOVIE</td>\n",
       "      <td>The Wind in the Willows: Concise version of Ke...</td>\n",
       "      <td>1950</td>\n",
       "      <td>G</td>\n",
       "      <td>68</td>\n",
       "      <td>['horror', 'fantasy', 'animation', 'family', '...</td>\n",
       "      <td>['US']</td>\n",
       "      <td>NaN</td>\n",
       "      <td>tt0041094</td>\n",
       "      <td>6.9</td>\n",
       "      <td>16502.0</td>\n",
       "      <td>16.194</td>\n",
       "      <td>6.500</td>\n",
       "    </tr>\n",
       "    <tr>\n",
       "      <th>2</th>\n",
       "      <td>tm61052</td>\n",
       "      <td>Cinderella</td>\n",
       "      <td>MOVIE</td>\n",
       "      <td>Cinderella has faith her dreams of a better li...</td>\n",
       "      <td>1950</td>\n",
       "      <td>G</td>\n",
       "      <td>74</td>\n",
       "      <td>['fantasy', 'animation', 'family', 'romance']</td>\n",
       "      <td>['US']</td>\n",
       "      <td>NaN</td>\n",
       "      <td>tt0042332</td>\n",
       "      <td>7.3</td>\n",
       "      <td>164292.0</td>\n",
       "      <td>93.547</td>\n",
       "      <td>7.035</td>\n",
       "    </tr>\n",
       "    <tr>\n",
       "      <th>3</th>\n",
       "      <td>tm87946</td>\n",
       "      <td>Dumbo</td>\n",
       "      <td>MOVIE</td>\n",
       "      <td>Dumbo is a baby elephant born with over-sized ...</td>\n",
       "      <td>1941</td>\n",
       "      <td>G</td>\n",
       "      <td>64</td>\n",
       "      <td>['animation', 'drama', 'family', 'fantasy']</td>\n",
       "      <td>['US']</td>\n",
       "      <td>NaN</td>\n",
       "      <td>tt0033563</td>\n",
       "      <td>7.2</td>\n",
       "      <td>135045.0</td>\n",
       "      <td>54.265</td>\n",
       "      <td>6.999</td>\n",
       "    </tr>\n",
       "    <tr>\n",
       "      <th>4</th>\n",
       "      <td>tm74391</td>\n",
       "      <td>Fantasia</td>\n",
       "      <td>MOVIE</td>\n",
       "      <td>Walt Disney's timeless masterpiece is an extra...</td>\n",
       "      <td>1941</td>\n",
       "      <td>G</td>\n",
       "      <td>119</td>\n",
       "      <td>['animation', 'family', 'fantasy', 'music']</td>\n",
       "      <td>['US']</td>\n",
       "      <td>NaN</td>\n",
       "      <td>tt0032455</td>\n",
       "      <td>7.7</td>\n",
       "      <td>98764.0</td>\n",
       "      <td>43.609</td>\n",
       "      <td>7.382</td>\n",
       "    </tr>\n",
       "  </tbody>\n",
       "</table>\n",
       "</div>"
      ],
      "text/plain": [
       "        id                                   title   type  \\\n",
       "0  tm89464                  Miracle on 34th Street  MOVIE   \n",
       "1  tm61729  The Adventures of Ichabod and Mr. Toad  MOVIE   \n",
       "2  tm61052                              Cinderella  MOVIE   \n",
       "3  tm87946                                   Dumbo  MOVIE   \n",
       "4  tm74391                                Fantasia  MOVIE   \n",
       "\n",
       "                                         description  release_year  \\\n",
       "0  Kris Kringle, seemingly the embodiment of Sant...          1947   \n",
       "1  The Wind in the Willows: Concise version of Ke...          1950   \n",
       "2  Cinderella has faith her dreams of a better li...          1950   \n",
       "3  Dumbo is a baby elephant born with over-sized ...          1941   \n",
       "4  Walt Disney's timeless masterpiece is an extra...          1941   \n",
       "\n",
       "  age_certification  runtime  \\\n",
       "0                 G       96   \n",
       "1                 G       68   \n",
       "2                 G       74   \n",
       "3                 G       64   \n",
       "4                 G      119   \n",
       "\n",
       "                                              genres production_countries  \\\n",
       "0                      ['family', 'comedy', 'drama']               ['US']   \n",
       "1  ['horror', 'fantasy', 'animation', 'family', '...               ['US']   \n",
       "2      ['fantasy', 'animation', 'family', 'romance']               ['US']   \n",
       "3        ['animation', 'drama', 'family', 'fantasy']               ['US']   \n",
       "4        ['animation', 'family', 'fantasy', 'music']               ['US']   \n",
       "\n",
       "   seasons    imdb_id  imdb_score  imdb_votes  tmdb_popularity  tmdb_score  \n",
       "0      NaN  tt0039628         7.9     50969.0           23.515       7.388  \n",
       "1      NaN  tt0041094         6.9     16502.0           16.194       6.500  \n",
       "2      NaN  tt0042332         7.3    164292.0           93.547       7.035  \n",
       "3      NaN  tt0033563         7.2    135045.0           54.265       6.999  \n",
       "4      NaN  tt0032455         7.7     98764.0           43.609       7.382  "
      ]
     },
     "execution_count": 3,
     "metadata": {},
     "output_type": "execute_result"
    }
   ],
   "source": [
    "df1.head()"
   ]
  },
  {
   "cell_type": "markdown",
   "id": "14182d32",
   "metadata": {},
   "source": [
    "### How many missing values in which coloumn?"
   ]
  },
  {
   "cell_type": "code",
   "execution_count": 4,
   "id": "0be646f8",
   "metadata": {},
   "outputs": [
    {
     "data": {
      "text/plain": [
       "id                         0\n",
       "title                      0\n",
       "type                       0\n",
       "description                9\n",
       "release_year               0\n",
       "age_certification        451\n",
       "runtime                    0\n",
       "genres                     0\n",
       "production_countries       0\n",
       "seasons                 1314\n",
       "imdb_id                  478\n",
       "imdb_score               515\n",
       "imdb_votes               526\n",
       "tmdb_popularity           15\n",
       "tmdb_score               146\n",
       "dtype: int64"
      ]
     },
     "execution_count": 4,
     "metadata": {},
     "output_type": "execute_result"
    }
   ],
   "source": [
    "df1.isna().sum()"
   ]
  },
  {
   "cell_type": "markdown",
   "id": "8c521e2d",
   "metadata": {},
   "source": [
    "### Hence there are missing values in the following coloumns:\n",
    "* age_certification =         451 \n",
    "* imdb_id =                 478 \n",
    "* imdb_score  =             515 \n",
    "* imdb_votes =              526 \n",
    "* tmdb_popularity =          15 \n",
    "* tmdb_score   =            146 "
   ]
  },
  {
   "cell_type": "code",
   "execution_count": 5,
   "id": "e599e926",
   "metadata": {},
   "outputs": [
    {
     "name": "stdout",
     "output_type": "stream",
     "text": [
      "<class 'pandas.core.frame.DataFrame'>\n",
      "RangeIndex: 1854 entries, 0 to 1853\n",
      "Data columns (total 15 columns):\n",
      " #   Column                Non-Null Count  Dtype  \n",
      "---  ------                --------------  -----  \n",
      " 0   id                    1854 non-null   object \n",
      " 1   title                 1854 non-null   object \n",
      " 2   type                  1854 non-null   object \n",
      " 3   description           1845 non-null   object \n",
      " 4   release_year          1854 non-null   int64  \n",
      " 5   age_certification     1403 non-null   object \n",
      " 6   runtime               1854 non-null   int64  \n",
      " 7   genres                1854 non-null   object \n",
      " 8   production_countries  1854 non-null   object \n",
      " 9   seasons               540 non-null    float64\n",
      " 10  imdb_id               1376 non-null   object \n",
      " 11  imdb_score            1339 non-null   float64\n",
      " 12  imdb_votes            1328 non-null   float64\n",
      " 13  tmdb_popularity       1839 non-null   float64\n",
      " 14  tmdb_score            1708 non-null   float64\n",
      "dtypes: float64(5), int64(2), object(8)\n",
      "memory usage: 217.4+ KB\n"
     ]
    }
   ],
   "source": [
    "df1.info()"
   ]
  },
  {
   "cell_type": "code",
   "execution_count": 6,
   "id": "0f856478",
   "metadata": {},
   "outputs": [
    {
     "data": {
      "text/html": [
       "<div>\n",
       "<style scoped>\n",
       "    .dataframe tbody tr th:only-of-type {\n",
       "        vertical-align: middle;\n",
       "    }\n",
       "\n",
       "    .dataframe tbody tr th {\n",
       "        vertical-align: top;\n",
       "    }\n",
       "\n",
       "    .dataframe thead th {\n",
       "        text-align: right;\n",
       "    }\n",
       "</style>\n",
       "<table border=\"1\" class=\"dataframe\">\n",
       "  <thead>\n",
       "    <tr style=\"text-align: right;\">\n",
       "      <th></th>\n",
       "      <th>person_id</th>\n",
       "      <th>id</th>\n",
       "      <th>name</th>\n",
       "      <th>character</th>\n",
       "      <th>role</th>\n",
       "    </tr>\n",
       "  </thead>\n",
       "  <tbody>\n",
       "    <tr>\n",
       "      <th>0</th>\n",
       "      <td>35549</td>\n",
       "      <td>tm89464</td>\n",
       "      <td>Maureen O'Hara</td>\n",
       "      <td>Doris Walker</td>\n",
       "      <td>ACTOR</td>\n",
       "    </tr>\n",
       "    <tr>\n",
       "      <th>1</th>\n",
       "      <td>57832</td>\n",
       "      <td>tm89464</td>\n",
       "      <td>John Payne</td>\n",
       "      <td>Fred Gailey</td>\n",
       "      <td>ACTOR</td>\n",
       "    </tr>\n",
       "    <tr>\n",
       "      <th>2</th>\n",
       "      <td>57833</td>\n",
       "      <td>tm89464</td>\n",
       "      <td>Edmund Gwenn</td>\n",
       "      <td>Kris Kringle</td>\n",
       "      <td>ACTOR</td>\n",
       "    </tr>\n",
       "    <tr>\n",
       "      <th>3</th>\n",
       "      <td>25096</td>\n",
       "      <td>tm89464</td>\n",
       "      <td>Natalie Wood</td>\n",
       "      <td>Susan Walker</td>\n",
       "      <td>ACTOR</td>\n",
       "    </tr>\n",
       "    <tr>\n",
       "      <th>4</th>\n",
       "      <td>27185</td>\n",
       "      <td>tm89464</td>\n",
       "      <td>Porter Hall</td>\n",
       "      <td>Granville Sawyer</td>\n",
       "      <td>ACTOR</td>\n",
       "    </tr>\n",
       "  </tbody>\n",
       "</table>\n",
       "</div>"
      ],
      "text/plain": [
       "   person_id       id            name         character   role\n",
       "0      35549  tm89464  Maureen O'Hara      Doris Walker  ACTOR\n",
       "1      57832  tm89464      John Payne       Fred Gailey  ACTOR\n",
       "2      57833  tm89464    Edmund Gwenn      Kris Kringle  ACTOR\n",
       "3      25096  tm89464    Natalie Wood      Susan Walker  ACTOR\n",
       "4      27185  tm89464     Porter Hall  Granville Sawyer  ACTOR"
      ]
     },
     "execution_count": 6,
     "metadata": {},
     "output_type": "execute_result"
    }
   ],
   "source": [
    "df2.head()"
   ]
  },
  {
   "cell_type": "markdown",
   "id": "e2f71fd5",
   "metadata": {},
   "source": [
    "### How many entries with IMDB 8+ ?"
   ]
  },
  {
   "cell_type": "code",
   "execution_count": 7,
   "id": "a7417e42",
   "metadata": {},
   "outputs": [
    {
     "data": {
      "text/html": [
       "<div>\n",
       "<style scoped>\n",
       "    .dataframe tbody tr th:only-of-type {\n",
       "        vertical-align: middle;\n",
       "    }\n",
       "\n",
       "    .dataframe tbody tr th {\n",
       "        vertical-align: top;\n",
       "    }\n",
       "\n",
       "    .dataframe thead th {\n",
       "        text-align: right;\n",
       "    }\n",
       "</style>\n",
       "<table border=\"1\" class=\"dataframe\">\n",
       "  <thead>\n",
       "    <tr style=\"text-align: right;\">\n",
       "      <th></th>\n",
       "      <th>id</th>\n",
       "      <th>title</th>\n",
       "      <th>type</th>\n",
       "      <th>description</th>\n",
       "      <th>release_year</th>\n",
       "      <th>age_certification</th>\n",
       "      <th>runtime</th>\n",
       "      <th>genres</th>\n",
       "      <th>production_countries</th>\n",
       "      <th>seasons</th>\n",
       "      <th>imdb_id</th>\n",
       "      <th>imdb_score</th>\n",
       "      <th>imdb_votes</th>\n",
       "      <th>tmdb_popularity</th>\n",
       "      <th>tmdb_score</th>\n",
       "    </tr>\n",
       "  </thead>\n",
       "  <tbody>\n",
       "    <tr>\n",
       "      <th>85</th>\n",
       "      <td>tm1</td>\n",
       "      <td>Star Wars</td>\n",
       "      <td>MOVIE</td>\n",
       "      <td>Princess Leia is captured and held hostage by ...</td>\n",
       "      <td>1977</td>\n",
       "      <td>PG</td>\n",
       "      <td>121</td>\n",
       "      <td>['action', 'scifi', 'fantasy']</td>\n",
       "      <td>['US']</td>\n",
       "      <td>NaN</td>\n",
       "      <td>tt0076759</td>\n",
       "      <td>8.6</td>\n",
       "      <td>1378285.0</td>\n",
       "      <td>81.289</td>\n",
       "      <td>8.207</td>\n",
       "    </tr>\n",
       "    <tr>\n",
       "      <th>86</th>\n",
       "      <td>tm88215</td>\n",
       "      <td>The Sound of Music</td>\n",
       "      <td>MOVIE</td>\n",
       "      <td>In the years before the Second World War, a to...</td>\n",
       "      <td>1965</td>\n",
       "      <td>G</td>\n",
       "      <td>174</td>\n",
       "      <td>['romance', 'drama', 'family']</td>\n",
       "      <td>['US']</td>\n",
       "      <td>NaN</td>\n",
       "      <td>tt0059742</td>\n",
       "      <td>8.1</td>\n",
       "      <td>240945.0</td>\n",
       "      <td>22.793</td>\n",
       "      <td>7.706</td>\n",
       "    </tr>\n",
       "    <tr>\n",
       "      <th>87</th>\n",
       "      <td>tm2</td>\n",
       "      <td>The Empire Strikes Back</td>\n",
       "      <td>MOVIE</td>\n",
       "      <td>The epic saga continues as Luke Skywalker, in ...</td>\n",
       "      <td>1980</td>\n",
       "      <td>PG</td>\n",
       "      <td>124</td>\n",
       "      <td>['action', 'scifi', 'fantasy']</td>\n",
       "      <td>['US']</td>\n",
       "      <td>NaN</td>\n",
       "      <td>tt0080684</td>\n",
       "      <td>8.7</td>\n",
       "      <td>1305888.0</td>\n",
       "      <td>28.328</td>\n",
       "      <td>8.393</td>\n",
       "    </tr>\n",
       "    <tr>\n",
       "      <th>88</th>\n",
       "      <td>ts30718</td>\n",
       "      <td>Schoolhouse Rock!</td>\n",
       "      <td>SHOW</td>\n",
       "      <td>Schoolhouse Rock! is an American interstitial ...</td>\n",
       "      <td>1973</td>\n",
       "      <td>NaN</td>\n",
       "      <td>3</td>\n",
       "      <td>['animation', 'family']</td>\n",
       "      <td>['US']</td>\n",
       "      <td>7.0</td>\n",
       "      <td>tt0069627</td>\n",
       "      <td>8.2</td>\n",
       "      <td>4108.0</td>\n",
       "      <td>3.125</td>\n",
       "      <td>7.800</td>\n",
       "    </tr>\n",
       "    <tr>\n",
       "      <th>90</th>\n",
       "      <td>ts22470</td>\n",
       "      <td>The Muppet Show</td>\n",
       "      <td>SHOW</td>\n",
       "      <td>Go behind the curtains as Kermit the Frog and ...</td>\n",
       "      <td>1976</td>\n",
       "      <td>TV-G</td>\n",
       "      <td>25</td>\n",
       "      <td>['comedy', 'family', 'music']</td>\n",
       "      <td>['GB']</td>\n",
       "      <td>5.0</td>\n",
       "      <td>tt0074028</td>\n",
       "      <td>8.4</td>\n",
       "      <td>25122.0</td>\n",
       "      <td>17.728</td>\n",
       "      <td>8.014</td>\n",
       "    </tr>\n",
       "    <tr>\n",
       "      <th>...</th>\n",
       "      <td>...</td>\n",
       "      <td>...</td>\n",
       "      <td>...</td>\n",
       "      <td>...</td>\n",
       "      <td>...</td>\n",
       "      <td>...</td>\n",
       "      <td>...</td>\n",
       "      <td>...</td>\n",
       "      <td>...</td>\n",
       "      <td>...</td>\n",
       "      <td>...</td>\n",
       "      <td>...</td>\n",
       "      <td>...</td>\n",
       "      <td>...</td>\n",
       "      <td>...</td>\n",
       "    </tr>\n",
       "    <tr>\n",
       "      <th>1812</th>\n",
       "      <td>ts302664</td>\n",
       "      <td>Unknown Waters with Jeremy Wade</td>\n",
       "      <td>SHOW</td>\n",
       "      <td>Jeremy Wade travels the world’s most remote &amp; ...</td>\n",
       "      <td>2021</td>\n",
       "      <td>NaN</td>\n",
       "      <td>44</td>\n",
       "      <td>['documentation']</td>\n",
       "      <td>['GB']</td>\n",
       "      <td>1.0</td>\n",
       "      <td>tt17890420</td>\n",
       "      <td>8.3</td>\n",
       "      <td>43.0</td>\n",
       "      <td>1.271</td>\n",
       "      <td>8.500</td>\n",
       "    </tr>\n",
       "    <tr>\n",
       "      <th>1816</th>\n",
       "      <td>ts301923</td>\n",
       "      <td>The Hatcher Family Dairy</td>\n",
       "      <td>SHOW</td>\n",
       "      <td>The Hatcher family continues to operate a 175-...</td>\n",
       "      <td>2021</td>\n",
       "      <td>NaN</td>\n",
       "      <td>44</td>\n",
       "      <td>['documentation']</td>\n",
       "      <td>['US']</td>\n",
       "      <td>1.0</td>\n",
       "      <td>tt15058696</td>\n",
       "      <td>9.0</td>\n",
       "      <td>76.0</td>\n",
       "      <td>1.065</td>\n",
       "      <td>NaN</td>\n",
       "    </tr>\n",
       "    <tr>\n",
       "      <th>1820</th>\n",
       "      <td>tm1235778</td>\n",
       "      <td>Dickie V</td>\n",
       "      <td>MOVIE</td>\n",
       "      <td>The remarkable life and career of the legendar...</td>\n",
       "      <td>2022</td>\n",
       "      <td>NaN</td>\n",
       "      <td>80</td>\n",
       "      <td>['documentation']</td>\n",
       "      <td>['US']</td>\n",
       "      <td>NaN</td>\n",
       "      <td>tt21065336</td>\n",
       "      <td>8.9</td>\n",
       "      <td>49.0</td>\n",
       "      <td>0.895</td>\n",
       "      <td>NaN</td>\n",
       "    </tr>\n",
       "    <tr>\n",
       "      <th>1834</th>\n",
       "      <td>ts313654</td>\n",
       "      <td>The Low Tone Club</td>\n",
       "      <td>SHOW</td>\n",
       "      <td>Amaranto Molina is a peculiar professor. With ...</td>\n",
       "      <td>2023</td>\n",
       "      <td>NaN</td>\n",
       "      <td>32</td>\n",
       "      <td>['comedy', 'drama', 'music']</td>\n",
       "      <td>['CO']</td>\n",
       "      <td>1.0</td>\n",
       "      <td>tt15559540</td>\n",
       "      <td>8.3</td>\n",
       "      <td>76.0</td>\n",
       "      <td>24.965</td>\n",
       "      <td>10.000</td>\n",
       "    </tr>\n",
       "    <tr>\n",
       "      <th>1844</th>\n",
       "      <td>ts300548</td>\n",
       "      <td>@Gina Yei: #WithAllMyHeartAndMore</td>\n",
       "      <td>SHOW</td>\n",
       "      <td>Yei!— Is what Gina says in positive situations...</td>\n",
       "      <td>2023</td>\n",
       "      <td>NaN</td>\n",
       "      <td>43</td>\n",
       "      <td>['drama', 'comedy']</td>\n",
       "      <td>['PR']</td>\n",
       "      <td>1.0</td>\n",
       "      <td>tt15539452</td>\n",
       "      <td>8.3</td>\n",
       "      <td>84.0</td>\n",
       "      <td>40.633</td>\n",
       "      <td>7.000</td>\n",
       "    </tr>\n",
       "  </tbody>\n",
       "</table>\n",
       "<p>140 rows × 15 columns</p>\n",
       "</div>"
      ],
      "text/plain": [
       "             id                              title   type  \\\n",
       "85          tm1                          Star Wars  MOVIE   \n",
       "86      tm88215                 The Sound of Music  MOVIE   \n",
       "87          tm2            The Empire Strikes Back  MOVIE   \n",
       "88      ts30718                  Schoolhouse Rock!   SHOW   \n",
       "90      ts22470                    The Muppet Show   SHOW   \n",
       "...         ...                                ...    ...   \n",
       "1812   ts302664    Unknown Waters with Jeremy Wade   SHOW   \n",
       "1816   ts301923           The Hatcher Family Dairy   SHOW   \n",
       "1820  tm1235778                           Dickie V  MOVIE   \n",
       "1834   ts313654                  The Low Tone Club   SHOW   \n",
       "1844   ts300548  @Gina Yei: #WithAllMyHeartAndMore   SHOW   \n",
       "\n",
       "                                            description  release_year  \\\n",
       "85    Princess Leia is captured and held hostage by ...          1977   \n",
       "86    In the years before the Second World War, a to...          1965   \n",
       "87    The epic saga continues as Luke Skywalker, in ...          1980   \n",
       "88    Schoolhouse Rock! is an American interstitial ...          1973   \n",
       "90    Go behind the curtains as Kermit the Frog and ...          1976   \n",
       "...                                                 ...           ...   \n",
       "1812  Jeremy Wade travels the world’s most remote & ...          2021   \n",
       "1816  The Hatcher family continues to operate a 175-...          2021   \n",
       "1820  The remarkable life and career of the legendar...          2022   \n",
       "1834  Amaranto Molina is a peculiar professor. With ...          2023   \n",
       "1844  Yei!— Is what Gina says in positive situations...          2023   \n",
       "\n",
       "     age_certification  runtime                          genres  \\\n",
       "85                  PG      121  ['action', 'scifi', 'fantasy']   \n",
       "86                   G      174  ['romance', 'drama', 'family']   \n",
       "87                  PG      124  ['action', 'scifi', 'fantasy']   \n",
       "88                 NaN        3         ['animation', 'family']   \n",
       "90                TV-G       25   ['comedy', 'family', 'music']   \n",
       "...                ...      ...                             ...   \n",
       "1812               NaN       44               ['documentation']   \n",
       "1816               NaN       44               ['documentation']   \n",
       "1820               NaN       80               ['documentation']   \n",
       "1834               NaN       32    ['comedy', 'drama', 'music']   \n",
       "1844               NaN       43             ['drama', 'comedy']   \n",
       "\n",
       "     production_countries  seasons     imdb_id  imdb_score  imdb_votes  \\\n",
       "85                 ['US']      NaN   tt0076759         8.6   1378285.0   \n",
       "86                 ['US']      NaN   tt0059742         8.1    240945.0   \n",
       "87                 ['US']      NaN   tt0080684         8.7   1305888.0   \n",
       "88                 ['US']      7.0   tt0069627         8.2      4108.0   \n",
       "90                 ['GB']      5.0   tt0074028         8.4     25122.0   \n",
       "...                   ...      ...         ...         ...         ...   \n",
       "1812               ['GB']      1.0  tt17890420         8.3        43.0   \n",
       "1816               ['US']      1.0  tt15058696         9.0        76.0   \n",
       "1820               ['US']      NaN  tt21065336         8.9        49.0   \n",
       "1834               ['CO']      1.0  tt15559540         8.3        76.0   \n",
       "1844               ['PR']      1.0  tt15539452         8.3        84.0   \n",
       "\n",
       "      tmdb_popularity  tmdb_score  \n",
       "85             81.289       8.207  \n",
       "86             22.793       7.706  \n",
       "87             28.328       8.393  \n",
       "88              3.125       7.800  \n",
       "90             17.728       8.014  \n",
       "...               ...         ...  \n",
       "1812            1.271       8.500  \n",
       "1816            1.065         NaN  \n",
       "1820            0.895         NaN  \n",
       "1834           24.965      10.000  \n",
       "1844           40.633       7.000  \n",
       "\n",
       "[140 rows x 15 columns]"
      ]
     },
     "execution_count": 7,
     "metadata": {},
     "output_type": "execute_result"
    }
   ],
   "source": [
    "df3=df1[df1['imdb_score']>=8]\n",
    "df3"
   ]
  },
  {
   "cell_type": "markdown",
   "id": "ec343ec1",
   "metadata": {},
   "source": [
    "Hence there are 140 entries with imdb rating 8+"
   ]
  },
  {
   "cell_type": "code",
   "execution_count": 8,
   "id": "ee50e771",
   "metadata": {},
   "outputs": [
    {
     "data": {
      "text/plain": [
       "2022    175\n",
       "2020    145\n",
       "2021    144\n",
       "2019    114\n",
       "2016     80\n",
       "       ... \n",
       "1944      1\n",
       "1928      1\n",
       "1968      1\n",
       "1970      1\n",
       "1982      1\n",
       "Name: release_year, Length: 93, dtype: int64"
      ]
     },
     "execution_count": 8,
     "metadata": {},
     "output_type": "execute_result"
    }
   ],
   "source": [
    "df1['release_year'].value_counts()"
   ]
  },
  {
   "cell_type": "markdown",
   "id": "9af576fe",
   "metadata": {},
   "source": [
    "Highest movies and show released on Disney+ Hotstar in 2022"
   ]
  },
  {
   "cell_type": "code",
   "execution_count": 9,
   "id": "fc3399f9",
   "metadata": {},
   "outputs": [
    {
     "data": {
      "image/png": "[encoded data removed]",
      "text/plain": [
       "<Figure size 1440x576 with 1 Axes>"
      ]
     },
     "metadata": {
      "needs_background": "light"
     },
     "output_type": "display_data"
    }
   ],
   "source": [
    "df1['release_year'].value_counts().sort_index(ascending=False).plot(kind='bar',figsize = (20,8), color = 'red')\n",
    "plt.xlabel('Release Year', labelpad=14, fontsize=18)\n",
    "plt.ylabel('Number of Post', labelpad=14, fontsize=18)\n",
    "plt.title('Yearwise visualization of Entries of Movies and Shows', y=1.02, fontsize=25)\n",
    "plt.show()"
   ]
  },
  {
   "cell_type": "markdown",
   "id": "8d391015",
   "metadata": {},
   "source": [
    "* The Overall release of movies and shows are inscreasing on an average\n",
    "* Rapid increase from the year 2019 i.e During COVID\n",
    "* But during the COVID production was not possible hence there is sharp decrease in the movies and show release  "
   ]
  },
  {
   "cell_type": "code",
   "execution_count": 34,
   "id": "535eed24",
   "metadata": {},
   "outputs": [
    {
     "data": {
      "image/png": "[encoded data removed]",
      "text/plain": [
       "<Figure size 1440x576 with 1 Axes>"
      ]
     },
     "metadata": {
      "needs_background": "light"
     },
     "output_type": "display_data"
    }
   ],
   "source": [
    "df3['release_year'].value_counts().sort_index(ascending=False).plot(kind='bar',figsize = (20,8), color = 'green')\n",
    "plt.xlabel('Release Year', labelpad=14, fontsize=18)\n",
    "plt.ylabel('Number of Post', labelpad=14, fontsize=18)\n",
    "plt.title('Yearwise visualization of Entries of Movies and Shows', y=1.02, fontsize=25)\n",
    "plt.show()"
   ]
  },
  {
   "cell_type": "code",
   "execution_count": 11,
   "id": "cf46c17d",
   "metadata": {},
   "outputs": [
    {
     "data": {
      "text/plain": [
       "production_countries\n",
       "['AE']                         1\n",
       "['AR', 'BR']                   1\n",
       "['AR']                         7\n",
       "['AT']                         1\n",
       "['AU', 'CA', 'FR', 'US']       1\n",
       "                            ... \n",
       "['US', 'MX']                   1\n",
       "['US', 'NZ']                   3\n",
       "['US']                      1510\n",
       "['ZA']                         1\n",
       "[]                            52\n",
       "Length: 85, dtype: int64"
      ]
     },
     "execution_count": 11,
     "metadata": {},
     "output_type": "execute_result"
    }
   ],
   "source": [
    "df1.pivot_table(index=['production_countries'],aggfunc ='size')"
   ]
  },
  {
   "cell_type": "markdown",
   "id": "864d2e86",
   "metadata": {},
   "source": [
    "United State releases the highest number of movies and shows"
   ]
  },
  {
   "cell_type": "code",
   "execution_count": 12,
   "id": "9339f300",
   "metadata": {},
   "outputs": [
    {
     "data": {
      "text/plain": [
       "False    1850\n",
       "True        4\n",
       "Name: release_year, dtype: int64"
      ]
     },
     "execution_count": 12,
     "metadata": {},
     "output_type": "execute_result"
    }
   ],
   "source": [
    "(df1['release_year']==1975).value_counts()"
   ]
  },
  {
   "cell_type": "code",
   "execution_count": 13,
   "id": "518486b8",
   "metadata": {},
   "outputs": [
    {
     "data": {
      "text/plain": [
       "4"
      ]
     },
     "execution_count": 13,
     "metadata": {},
     "output_type": "execute_result"
    }
   ],
   "source": [
    "(df1['release_year']==1975).sum()"
   ]
  },
  {
   "cell_type": "markdown",
   "id": "982ec11a",
   "metadata": {},
   "source": [
    "### How the number of Movies and Shows distributed with IMDB rating 8+ and Overall ?"
   ]
  },
  {
   "cell_type": "code",
   "execution_count": 14,
   "id": "bd721037",
   "metadata": {},
   "outputs": [
    {
     "data": {
      "text/plain": [
       "Text(0.5, 1.0, 'Distribution of Shows and Movie with 8+ IMDB Rating')"
      ]
     },
     "execution_count": 14,
     "metadata": {},
     "output_type": "execute_result"
    },
    {
     "data": {
      "image/png": "[encoded data removed]",
      "text/plain": [
       "<Figure size 360x360 with 1 Axes>"
      ]
     },
     "metadata": {},
     "output_type": "display_data"
    }
   ],
   "source": [
    "df3['type'].value_counts().plot.pie(figsize=(5, 5), autopct='%1.1f%%')\n",
    "plt.title('Distribution of Shows and Movie with 8+ IMDB Rating')"
   ]
  },
  {
   "cell_type": "code",
   "execution_count": 15,
   "id": "2382aab7",
   "metadata": {},
   "outputs": [
    {
     "data": {
      "text/plain": [
       "Text(0.5, 1.0, 'Overall Distribution of Shows and Movie')"
      ]
     },
     "execution_count": 15,
     "metadata": {},
     "output_type": "execute_result"
    },
    {
     "data": {
      "image/png": "[encoded data removed]",
      "text/plain": [
       "<Figure size 360x360 with 1 Axes>"
      ]
     },
     "metadata": {},
     "output_type": "display_data"
    }
   ],
   "source": [
    "df1['type'].value_counts().plot.pie(figsize=(5, 5), autopct='%1.1f%%')\n",
    "plt.title('Overall Distribution of Shows and Movie')"
   ]
  },
  {
   "cell_type": "markdown",
   "id": "11a61892",
   "metadata": {},
   "source": [
    "* It is very Clear from the above pie charts that the number of movies are more than the number of shows. \n",
    "* But when it comes to quality shows are better performing"
   ]
  },
  {
   "cell_type": "code",
   "execution_count": 16,
   "id": "ceae9521",
   "metadata": {},
   "outputs": [
    {
     "data": {
      "text/plain": [
       "304"
      ]
     },
     "execution_count": 16,
     "metadata": {},
     "output_type": "execute_result"
    }
   ],
   "source": [
    "df1['genres'].str.contains('scifi', regex=False).sum()"
   ]
  },
  {
   "cell_type": "code",
   "execution_count": 17,
   "id": "ffe045a4",
   "metadata": {},
   "outputs": [
    {
     "data": {
      "text/html": [
       "<div>\n",
       "<style scoped>\n",
       "    .dataframe tbody tr th:only-of-type {\n",
       "        vertical-align: middle;\n",
       "    }\n",
       "\n",
       "    .dataframe tbody tr th {\n",
       "        vertical-align: top;\n",
       "    }\n",
       "\n",
       "    .dataframe thead th {\n",
       "        text-align: right;\n",
       "    }\n",
       "</style>\n",
       "<table border=\"1\" class=\"dataframe\">\n",
       "  <thead>\n",
       "    <tr style=\"text-align: right;\">\n",
       "      <th></th>\n",
       "      <th>id</th>\n",
       "      <th>title</th>\n",
       "      <th>type</th>\n",
       "      <th>description</th>\n",
       "      <th>release_year</th>\n",
       "      <th>age_certification</th>\n",
       "      <th>runtime</th>\n",
       "      <th>genres</th>\n",
       "      <th>production_countries</th>\n",
       "      <th>seasons</th>\n",
       "      <th>imdb_id</th>\n",
       "      <th>imdb_score</th>\n",
       "      <th>imdb_votes</th>\n",
       "      <th>tmdb_popularity</th>\n",
       "      <th>tmdb_score</th>\n",
       "    </tr>\n",
       "  </thead>\n",
       "  <tbody>\n",
       "    <tr>\n",
       "      <th>746</th>\n",
       "      <td>ts20439</td>\n",
       "      <td>Gravity Falls</td>\n",
       "      <td>SHOW</td>\n",
       "      <td>Twin brother and sister Dipper and Mabel Pines...</td>\n",
       "      <td>2012</td>\n",
       "      <td>TV-Y7</td>\n",
       "      <td>23</td>\n",
       "      <td>['scifi', 'family', 'fantasy', 'animation', 'c...</td>\n",
       "      <td>['US']</td>\n",
       "      <td>2.0</td>\n",
       "      <td>tt1865718</td>\n",
       "      <td>8.3</td>\n",
       "      <td>2125.0</td>\n",
       "      <td>154.333</td>\n",
       "      <td>8.506</td>\n",
       "    </tr>\n",
       "    <tr>\n",
       "      <th>916</th>\n",
       "      <td>tm141959</td>\n",
       "      <td>Feast</td>\n",
       "      <td>MOVIE</td>\n",
       "      <td>This Oscar-winning animated short film tells t...</td>\n",
       "      <td>2014</td>\n",
       "      <td>G</td>\n",
       "      <td>6</td>\n",
       "      <td>['comedy', 'drama', 'horror']</td>\n",
       "      <td>['US']</td>\n",
       "      <td>NaN</td>\n",
       "      <td>tt4282670</td>\n",
       "      <td>8.1</td>\n",
       "      <td>46.0</td>\n",
       "      <td>8.022</td>\n",
       "      <td>7.800</td>\n",
       "    </tr>\n",
       "    <tr>\n",
       "      <th>1254</th>\n",
       "      <td>ts113447</td>\n",
       "      <td>The Owl House</td>\n",
       "      <td>SHOW</td>\n",
       "      <td>Accidentally sent to the world of the Boiling ...</td>\n",
       "      <td>2020</td>\n",
       "      <td>TV-Y7-FV</td>\n",
       "      <td>24</td>\n",
       "      <td>['action', 'comedy', 'animation', 'family', 'f...</td>\n",
       "      <td>['US']</td>\n",
       "      <td>3.0</td>\n",
       "      <td>tt8050756</td>\n",
       "      <td>8.4</td>\n",
       "      <td>13721.0</td>\n",
       "      <td>228.944</td>\n",
       "      <td>8.700</td>\n",
       "    </tr>\n",
       "  </tbody>\n",
       "</table>\n",
       "</div>"
      ],
      "text/plain": [
       "            id          title   type  \\\n",
       "746    ts20439  Gravity Falls   SHOW   \n",
       "916   tm141959          Feast  MOVIE   \n",
       "1254  ts113447  The Owl House   SHOW   \n",
       "\n",
       "                                            description  release_year  \\\n",
       "746   Twin brother and sister Dipper and Mabel Pines...          2012   \n",
       "916   This Oscar-winning animated short film tells t...          2014   \n",
       "1254  Accidentally sent to the world of the Boiling ...          2020   \n",
       "\n",
       "     age_certification  runtime  \\\n",
       "746              TV-Y7       23   \n",
       "916                  G        6   \n",
       "1254          TV-Y7-FV       24   \n",
       "\n",
       "                                                 genres production_countries  \\\n",
       "746   ['scifi', 'family', 'fantasy', 'animation', 'c...               ['US']   \n",
       "916                       ['comedy', 'drama', 'horror']               ['US']   \n",
       "1254  ['action', 'comedy', 'animation', 'family', 'f...               ['US']   \n",
       "\n",
       "      seasons    imdb_id  imdb_score  imdb_votes  tmdb_popularity  tmdb_score  \n",
       "746       2.0  tt1865718         8.3      2125.0          154.333       8.506  \n",
       "916       NaN  tt4282670         8.1        46.0            8.022       7.800  \n",
       "1254      3.0  tt8050756         8.4     13721.0          228.944       8.700  "
      ]
     },
     "execution_count": 17,
     "metadata": {},
     "output_type": "execute_result"
    }
   ],
   "source": [
    "df3[df3['genres'].str.contains('horror', regex=False)]"
   ]
  },
  {
   "cell_type": "code",
   "execution_count": 18,
   "id": "9c9ef91d",
   "metadata": {},
   "outputs": [
    {
     "data": {
      "text/plain": [
       "['documentation']                                                  339\n",
       "['animation']                                                      108\n",
       "['comedy']                                                          80\n",
       "[]                                                                  39\n",
       "['reality']                                                         37\n",
       "                                                                  ... \n",
       "['drama', 'romance', 'comedy', 'family', 'music', 'animation']       1\n",
       "['comedy', 'drama', 'romance', 'family', 'music']                    1\n",
       "['drama', 'comedy', 'family', 'fantasy', 'animation', 'action']      1\n",
       "['family', 'action', 'comedy', 'music']                              1\n",
       "['reality', 'documentation', 'action']                               1\n",
       "Name: genres, Length: 718, dtype: int64"
      ]
     },
     "execution_count": 18,
     "metadata": {},
     "output_type": "execute_result"
    }
   ],
   "source": [
    "df1['genres'].value_counts()"
   ]
  },
  {
   "cell_type": "code",
   "execution_count": 19,
   "id": "56bcf6f0",
   "metadata": {},
   "outputs": [
    {
     "data": {
      "text/plain": [
       "<AxesSubplot:xlabel='imdb_score', ylabel='runtime'>"
      ]
     },
     "execution_count": 19,
     "metadata": {},
     "output_type": "execute_result"
    },
    {
     "data": {
      "image/png": "[encoded data removed]",
      "text/plain": [
       "<Figure size 1800x576 with 1 Axes>"
      ]
     },
     "metadata": {
      "needs_background": "light"
     },
     "output_type": "display_data"
    }
   ],
   "source": [
    "df1.plot(x='imdb_score',y='runtime', kind=\"scatter\", figsize=(25, 8), grid=False, edgecolor=None, color='green')"
   ]
  },
  {
   "cell_type": "code",
   "execution_count": 20,
   "id": "5b72fbdf",
   "metadata": {},
   "outputs": [
    {
     "data": {
      "text/plain": [
       "<AxesSubplot:xlabel='imdb_score', ylabel='seasons'>"
      ]
     },
     "execution_count": 20,
     "metadata": {},
     "output_type": "execute_result"
    },
    {
     "data": {
      "image/png": "[encoded data removed]",
      "text/plain": [
       "<Figure size 1800x576 with 1 Axes>"
      ]
     },
     "metadata": {
      "needs_background": "light"
     },
     "output_type": "display_data"
    }
   ],
   "source": [
    "df1.plot(x='imdb_score',y='seasons', kind=\"scatter\", figsize=(25, 8), grid=False, edgecolor=None, color='green')"
   ]
  },
  {
   "cell_type": "code",
   "execution_count": 21,
   "id": "74169ecc",
   "metadata": {},
   "outputs": [
    {
     "data": {
      "text/plain": [
       "imdb_score\n",
       "1.6    1\n",
       "2.5    1\n",
       "2.6    1\n",
       "2.8    1\n",
       "3.1    1\n",
       "      ..\n",
       "8.8    6\n",
       "8.9    1\n",
       "9.0    2\n",
       "9.3    1\n",
       "9.5    1\n",
       "Length: 65, dtype: int64"
      ]
     },
     "execution_count": 21,
     "metadata": {},
     "output_type": "execute_result"
    }
   ],
   "source": [
    "df1.pivot_table(index=['imdb_score'],aggfunc ='size')"
   ]
  },
  {
   "cell_type": "code",
   "execution_count": 22,
   "id": "30c5a270",
   "metadata": {},
   "outputs": [
    {
     "data": {
      "text/plain": [
       "seasons\n",
       "1.0     251\n",
       "2.0     103\n",
       "3.0      82\n",
       "4.0      38\n",
       "5.0      21\n",
       "6.0      14\n",
       "7.0       9\n",
       "8.0       7\n",
       "9.0       3\n",
       "10.0      3\n",
       "11.0      1\n",
       "12.0      1\n",
       "13.0      1\n",
       "14.0      1\n",
       "20.0      1\n",
       "22.0      1\n",
       "32.0      1\n",
       "34.0      1\n",
       "36.0      1\n",
       "dtype: int64"
      ]
     },
     "execution_count": 22,
     "metadata": {},
     "output_type": "execute_result"
    }
   ],
   "source": [
    "df1.pivot_table(index=['seasons'],aggfunc ='size')"
   ]
  },
  {
   "cell_type": "code",
   "execution_count": 23,
   "id": "938c2fab",
   "metadata": {},
   "outputs": [
    {
     "data": {
      "text/html": [
       "<div>\n",
       "<style scoped>\n",
       "    .dataframe tbody tr th:only-of-type {\n",
       "        vertical-align: middle;\n",
       "    }\n",
       "\n",
       "    .dataframe tbody tr th {\n",
       "        vertical-align: top;\n",
       "    }\n",
       "\n",
       "    .dataframe thead th {\n",
       "        text-align: right;\n",
       "    }\n",
       "</style>\n",
       "<table border=\"1\" class=\"dataframe\">\n",
       "  <thead>\n",
       "    <tr style=\"text-align: right;\">\n",
       "      <th></th>\n",
       "      <th>id</th>\n",
       "      <th>title</th>\n",
       "      <th>type</th>\n",
       "      <th>description</th>\n",
       "      <th>release_year</th>\n",
       "      <th>age_certification</th>\n",
       "      <th>runtime</th>\n",
       "      <th>genres</th>\n",
       "      <th>production_countries</th>\n",
       "      <th>seasons</th>\n",
       "      <th>imdb_id</th>\n",
       "      <th>imdb_score</th>\n",
       "      <th>imdb_votes</th>\n",
       "      <th>tmdb_popularity</th>\n",
       "      <th>tmdb_score</th>\n",
       "    </tr>\n",
       "  </thead>\n",
       "  <tbody>\n",
       "    <tr>\n",
       "      <th>1104</th>\n",
       "      <td>ts84270</td>\n",
       "      <td>Bluey</td>\n",
       "      <td>SHOW</td>\n",
       "      <td>Bluey is an inexhaustible six year-old Blue He...</td>\n",
       "      <td>2018</td>\n",
       "      <td>TV-Y</td>\n",
       "      <td>8</td>\n",
       "      <td>['animation', 'family']</td>\n",
       "      <td>['AU']</td>\n",
       "      <td>3.0</td>\n",
       "      <td>tt7678620</td>\n",
       "      <td>9.5</td>\n",
       "      <td>13596.0</td>\n",
       "      <td>114.829</td>\n",
       "      <td>8.167</td>\n",
       "    </tr>\n",
       "  </tbody>\n",
       "</table>\n",
       "</div>"
      ],
      "text/plain": [
       "           id  title  type                                        description  \\\n",
       "1104  ts84270  Bluey  SHOW  Bluey is an inexhaustible six year-old Blue He...   \n",
       "\n",
       "      release_year age_certification  runtime                   genres  \\\n",
       "1104          2018              TV-Y        8  ['animation', 'family']   \n",
       "\n",
       "     production_countries  seasons    imdb_id  imdb_score  imdb_votes  \\\n",
       "1104               ['AU']      3.0  tt7678620         9.5     13596.0   \n",
       "\n",
       "      tmdb_popularity  tmdb_score  \n",
       "1104          114.829       8.167  "
      ]
     },
     "execution_count": 23,
     "metadata": {},
     "output_type": "execute_result"
    }
   ],
   "source": [
    "df1[df1['imdb_score']==9.5]"
   ]
  },
  {
   "cell_type": "code",
   "execution_count": 24,
   "id": "ffd62504",
   "metadata": {},
   "outputs": [
    {
     "data": {
      "text/html": [
       "<div>\n",
       "<style scoped>\n",
       "    .dataframe tbody tr th:only-of-type {\n",
       "        vertical-align: middle;\n",
       "    }\n",
       "\n",
       "    .dataframe tbody tr th {\n",
       "        vertical-align: top;\n",
       "    }\n",
       "\n",
       "    .dataframe thead th {\n",
       "        text-align: right;\n",
       "    }\n",
       "</style>\n",
       "<table border=\"1\" class=\"dataframe\">\n",
       "  <thead>\n",
       "    <tr style=\"text-align: right;\">\n",
       "      <th></th>\n",
       "      <th>id</th>\n",
       "      <th>title</th>\n",
       "      <th>type</th>\n",
       "      <th>description</th>\n",
       "      <th>release_year</th>\n",
       "      <th>age_certification</th>\n",
       "      <th>runtime</th>\n",
       "      <th>genres</th>\n",
       "      <th>production_countries</th>\n",
       "      <th>seasons</th>\n",
       "      <th>imdb_id</th>\n",
       "      <th>imdb_score</th>\n",
       "      <th>imdb_votes</th>\n",
       "      <th>tmdb_popularity</th>\n",
       "      <th>tmdb_score</th>\n",
       "    </tr>\n",
       "  </thead>\n",
       "  <tbody>\n",
       "    <tr>\n",
       "      <th>698</th>\n",
       "      <td>tm150525</td>\n",
       "      <td>Jonas Brothers: The Concert Experience</td>\n",
       "      <td>MOVIE</td>\n",
       "      <td>Grab a backstage pass to the Jonas Brothers' m...</td>\n",
       "      <td>2009</td>\n",
       "      <td>G</td>\n",
       "      <td>76</td>\n",
       "      <td>['music', 'documentation', 'family']</td>\n",
       "      <td>['US']</td>\n",
       "      <td>NaN</td>\n",
       "      <td>tt1229827</td>\n",
       "      <td>1.6</td>\n",
       "      <td>17507.0</td>\n",
       "      <td>7.295</td>\n",
       "      <td>6.3</td>\n",
       "    </tr>\n",
       "  </tbody>\n",
       "</table>\n",
       "</div>"
      ],
      "text/plain": [
       "           id                                   title   type  \\\n",
       "698  tm150525  Jonas Brothers: The Concert Experience  MOVIE   \n",
       "\n",
       "                                           description  release_year  \\\n",
       "698  Grab a backstage pass to the Jonas Brothers' m...          2009   \n",
       "\n",
       "    age_certification  runtime                                genres  \\\n",
       "698                 G       76  ['music', 'documentation', 'family']   \n",
       "\n",
       "    production_countries  seasons    imdb_id  imdb_score  imdb_votes  \\\n",
       "698               ['US']      NaN  tt1229827         1.6     17507.0   \n",
       "\n",
       "     tmdb_popularity  tmdb_score  \n",
       "698            7.295         6.3  "
      ]
     },
     "execution_count": 24,
     "metadata": {},
     "output_type": "execute_result"
    }
   ],
   "source": [
    "df1[df1['imdb_score']==1.6]"
   ]
  },
  {
   "cell_type": "code",
   "execution_count": 25,
   "id": "1fb6085c",
   "metadata": {},
   "outputs": [
    {
     "data": {
      "text/html": [
       "<div>\n",
       "<style scoped>\n",
       "    .dataframe tbody tr th:only-of-type {\n",
       "        vertical-align: middle;\n",
       "    }\n",
       "\n",
       "    .dataframe tbody tr th {\n",
       "        vertical-align: top;\n",
       "    }\n",
       "\n",
       "    .dataframe thead th {\n",
       "        text-align: right;\n",
       "    }\n",
       "</style>\n",
       "<table border=\"1\" class=\"dataframe\">\n",
       "  <thead>\n",
       "    <tr style=\"text-align: right;\">\n",
       "      <th></th>\n",
       "      <th>id</th>\n",
       "      <th>title</th>\n",
       "      <th>type</th>\n",
       "      <th>description</th>\n",
       "      <th>release_year</th>\n",
       "      <th>age_certification</th>\n",
       "      <th>runtime</th>\n",
       "      <th>genres</th>\n",
       "      <th>production_countries</th>\n",
       "      <th>seasons</th>\n",
       "      <th>imdb_id</th>\n",
       "      <th>imdb_score</th>\n",
       "      <th>imdb_votes</th>\n",
       "      <th>tmdb_popularity</th>\n",
       "      <th>tmdb_score</th>\n",
       "    </tr>\n",
       "  </thead>\n",
       "  <tbody>\n",
       "    <tr>\n",
       "      <th>203</th>\n",
       "      <td>ts20711</td>\n",
       "      <td>The Simpsons</td>\n",
       "      <td>SHOW</td>\n",
       "      <td>The satiric adventures of a working-class fami...</td>\n",
       "      <td>1989</td>\n",
       "      <td>TV-MA</td>\n",
       "      <td>27</td>\n",
       "      <td>['animation', 'comedy']</td>\n",
       "      <td>['US']</td>\n",
       "      <td>36.0</td>\n",
       "      <td>tt0096697</td>\n",
       "      <td>8.7</td>\n",
       "      <td>413320.0</td>\n",
       "      <td>538.281</td>\n",
       "      <td>7.989</td>\n",
       "    </tr>\n",
       "  </tbody>\n",
       "</table>\n",
       "</div>"
      ],
      "text/plain": [
       "          id         title  type  \\\n",
       "203  ts20711  The Simpsons  SHOW   \n",
       "\n",
       "                                           description  release_year  \\\n",
       "203  The satiric adventures of a working-class fami...          1989   \n",
       "\n",
       "    age_certification  runtime                   genres production_countries  \\\n",
       "203             TV-MA       27  ['animation', 'comedy']               ['US']   \n",
       "\n",
       "     seasons    imdb_id  imdb_score  imdb_votes  tmdb_popularity  tmdb_score  \n",
       "203     36.0  tt0096697         8.7    413320.0          538.281       7.989  "
      ]
     },
     "execution_count": 25,
     "metadata": {},
     "output_type": "execute_result"
    }
   ],
   "source": [
    "df1[df1['seasons']==36]"
   ]
  },
  {
   "cell_type": "code",
   "execution_count": 26,
   "id": "6b930ee7",
   "metadata": {},
   "outputs": [
    {
     "data": {
      "text/html": [
       "<div>\n",
       "<style scoped>\n",
       "    .dataframe tbody tr th:only-of-type {\n",
       "        vertical-align: middle;\n",
       "    }\n",
       "\n",
       "    .dataframe tbody tr th {\n",
       "        vertical-align: top;\n",
       "    }\n",
       "\n",
       "    .dataframe thead th {\n",
       "        text-align: right;\n",
       "    }\n",
       "</style>\n",
       "<table border=\"1\" class=\"dataframe\">\n",
       "  <thead>\n",
       "    <tr style=\"text-align: right;\">\n",
       "      <th></th>\n",
       "      <th>id</th>\n",
       "      <th>title</th>\n",
       "      <th>type</th>\n",
       "      <th>description</th>\n",
       "      <th>release_year</th>\n",
       "      <th>age_certification</th>\n",
       "      <th>runtime</th>\n",
       "      <th>genres</th>\n",
       "      <th>production_countries</th>\n",
       "      <th>seasons</th>\n",
       "      <th>imdb_id</th>\n",
       "      <th>imdb_score</th>\n",
       "      <th>imdb_votes</th>\n",
       "      <th>tmdb_popularity</th>\n",
       "      <th>tmdb_score</th>\n",
       "    </tr>\n",
       "  </thead>\n",
       "  <tbody>\n",
       "    <tr>\n",
       "      <th>203</th>\n",
       "      <td>ts20711</td>\n",
       "      <td>The Simpsons</td>\n",
       "      <td>SHOW</td>\n",
       "      <td>The satiric adventures of a working-class fami...</td>\n",
       "      <td>1989</td>\n",
       "      <td>TV-MA</td>\n",
       "      <td>27</td>\n",
       "      <td>['animation', 'comedy']</td>\n",
       "      <td>['US']</td>\n",
       "      <td>36.0</td>\n",
       "      <td>tt0096697</td>\n",
       "      <td>8.7</td>\n",
       "      <td>413320.0</td>\n",
       "      <td>538.281</td>\n",
       "      <td>7.989</td>\n",
       "    </tr>\n",
       "    <tr>\n",
       "      <th>209</th>\n",
       "      <td>ts15377</td>\n",
       "      <td>America's Funniest Home Videos</td>\n",
       "      <td>SHOW</td>\n",
       "      <td>America's Funniest Home Videos is the longest-...</td>\n",
       "      <td>1989</td>\n",
       "      <td>TV-PG</td>\n",
       "      <td>50</td>\n",
       "      <td>['comedy', 'reality', 'family']</td>\n",
       "      <td>['US']</td>\n",
       "      <td>34.0</td>\n",
       "      <td>tt0098740</td>\n",
       "      <td>6.2</td>\n",
       "      <td>5545.0</td>\n",
       "      <td>48.068</td>\n",
       "      <td>6.594</td>\n",
       "    </tr>\n",
       "    <tr>\n",
       "      <th>434</th>\n",
       "      <td>ts18586</td>\n",
       "      <td>Dancing with the Stars</td>\n",
       "      <td>SHOW</td>\n",
       "      <td>U.S. reality show based on the British series ...</td>\n",
       "      <td>2005</td>\n",
       "      <td>TV-PG</td>\n",
       "      <td>89</td>\n",
       "      <td>['music', 'reality', 'family']</td>\n",
       "      <td>['US']</td>\n",
       "      <td>32.0</td>\n",
       "      <td>tt0463398</td>\n",
       "      <td>4.8</td>\n",
       "      <td>10123.0</td>\n",
       "      <td>32.001</td>\n",
       "      <td>5.600</td>\n",
       "    </tr>\n",
       "  </tbody>\n",
       "</table>\n",
       "</div>"
      ],
      "text/plain": [
       "          id                           title  type  \\\n",
       "203  ts20711                    The Simpsons  SHOW   \n",
       "209  ts15377  America's Funniest Home Videos  SHOW   \n",
       "434  ts18586          Dancing with the Stars  SHOW   \n",
       "\n",
       "                                           description  release_year  \\\n",
       "203  The satiric adventures of a working-class fami...          1989   \n",
       "209  America's Funniest Home Videos is the longest-...          1989   \n",
       "434  U.S. reality show based on the British series ...          2005   \n",
       "\n",
       "    age_certification  runtime                           genres  \\\n",
       "203             TV-MA       27          ['animation', 'comedy']   \n",
       "209             TV-PG       50  ['comedy', 'reality', 'family']   \n",
       "434             TV-PG       89   ['music', 'reality', 'family']   \n",
       "\n",
       "    production_countries  seasons    imdb_id  imdb_score  imdb_votes  \\\n",
       "203               ['US']     36.0  tt0096697         8.7    413320.0   \n",
       "209               ['US']     34.0  tt0098740         6.2      5545.0   \n",
       "434               ['US']     32.0  tt0463398         4.8     10123.0   \n",
       "\n",
       "     tmdb_popularity  tmdb_score  \n",
       "203          538.281       7.989  \n",
       "209           48.068       6.594  \n",
       "434           32.001       5.600  "
      ]
     },
     "execution_count": 26,
     "metadata": {},
     "output_type": "execute_result"
    }
   ],
   "source": [
    "df1[df1['seasons']>30]"
   ]
  },
  {
   "cell_type": "code",
   "execution_count": 27,
   "id": "8e4fdc7d",
   "metadata": {},
   "outputs": [
    {
     "data": {
      "text/plain": [
       "Jim Cummings       61\n",
       "Frank Welker       57\n",
       "Clarence Nash      49\n",
       "Jeff Bennett       48\n",
       "Pinto Colvig       47\n",
       "                   ..\n",
       "Mike Braun          1\n",
       "Charlie DeChant     1\n",
       "Zev Katz            1\n",
       "Eliot Lewis         1\n",
       "Brian Cade          1\n",
       "Name: name, Length: 19851, dtype: int64"
      ]
     },
     "execution_count": 27,
     "metadata": {},
     "output_type": "execute_result"
    }
   ],
   "source": [
    "df2['name'].value_counts()"
   ]
  },
  {
   "cell_type": "code",
   "execution_count": 28,
   "id": "7ba68767",
   "metadata": {},
   "outputs": [
    {
     "data": {
      "text/plain": [
       "<AxesSubplot:>"
      ]
     },
     "execution_count": 28,
     "metadata": {},
     "output_type": "execute_result"
    },
    {
     "data": {
      "image/png": "[encoded data removed]",
      "text/plain": [
       "<Figure size 432x288 with 1 Axes>"
      ]
     },
     "metadata": {
      "needs_background": "light"
     },
     "output_type": "display_data"
    }
   ],
   "source": [
    "df2['role'].value_counts().plot(kind='bar')"
   ]
  },
  {
   "cell_type": "code",
   "execution_count": 29,
   "id": "f8bb6606",
   "metadata": {},
   "outputs": [
    {
     "data": {
      "text/html": [
       "<div>\n",
       "<style scoped>\n",
       "    .dataframe tbody tr th:only-of-type {\n",
       "        vertical-align: middle;\n",
       "    }\n",
       "\n",
       "    .dataframe tbody tr th {\n",
       "        vertical-align: top;\n",
       "    }\n",
       "\n",
       "    .dataframe thead th {\n",
       "        text-align: right;\n",
       "    }\n",
       "</style>\n",
       "<table border=\"1\" class=\"dataframe\">\n",
       "  <thead>\n",
       "    <tr style=\"text-align: right;\">\n",
       "      <th></th>\n",
       "      <th>person_id</th>\n",
       "      <th>id</th>\n",
       "      <th>name</th>\n",
       "      <th>character</th>\n",
       "      <th>role</th>\n",
       "    </tr>\n",
       "  </thead>\n",
       "  <tbody>\n",
       "    <tr>\n",
       "      <th>2898</th>\n",
       "      <td>528</td>\n",
       "      <td>tm49092</td>\n",
       "      <td>Jim Cummings</td>\n",
       "      <td>Bullet #2</td>\n",
       "      <td>ACTOR</td>\n",
       "    </tr>\n",
       "    <tr>\n",
       "      <th>3106</th>\n",
       "      <td>528</td>\n",
       "      <td>ts11857</td>\n",
       "      <td>Jim Cummings</td>\n",
       "      <td>Monterey Jack / Fat Cat / Professor Norton Nim...</td>\n",
       "      <td>ACTOR</td>\n",
       "    </tr>\n",
       "    <tr>\n",
       "      <th>3423</th>\n",
       "      <td>528</td>\n",
       "      <td>ts233</td>\n",
       "      <td>Jim Cummings</td>\n",
       "      <td>Zummi Gummi (voice)</td>\n",
       "      <td>ACTOR</td>\n",
       "    </tr>\n",
       "    <tr>\n",
       "      <th>3782</th>\n",
       "      <td>528</td>\n",
       "      <td>ts21976</td>\n",
       "      <td>Jim Cummings</td>\n",
       "      <td>Winnie-the-Pooh / Tigger (voice)</td>\n",
       "      <td>ACTOR</td>\n",
       "    </tr>\n",
       "    <tr>\n",
       "      <th>4493</th>\n",
       "      <td>528</td>\n",
       "      <td>tm113629</td>\n",
       "      <td>Jim Cummings</td>\n",
       "      <td>ED the Hyena (voice) / Scar (singing voice)</td>\n",
       "      <td>ACTOR</td>\n",
       "    </tr>\n",
       "    <tr>\n",
       "      <th>...</th>\n",
       "      <td>...</td>\n",
       "      <td>...</td>\n",
       "      <td>...</td>\n",
       "      <td>...</td>\n",
       "      <td>...</td>\n",
       "    </tr>\n",
       "    <tr>\n",
       "      <th>19298</th>\n",
       "      <td>528</td>\n",
       "      <td>ts20151</td>\n",
       "      <td>Jim Cummings</td>\n",
       "      <td>Pete (voice)</td>\n",
       "      <td>ACTOR</td>\n",
       "    </tr>\n",
       "    <tr>\n",
       "      <th>23022</th>\n",
       "      <td>528</td>\n",
       "      <td>tm349784</td>\n",
       "      <td>Jim Cummings</td>\n",
       "      <td>Winnie the Pooh / Tigger (voice)</td>\n",
       "      <td>ACTOR</td>\n",
       "    </tr>\n",
       "    <tr>\n",
       "      <th>23641</th>\n",
       "      <td>528</td>\n",
       "      <td>ts58266</td>\n",
       "      <td>Jim Cummings</td>\n",
       "      <td>Hammerhead (voice)</td>\n",
       "      <td>ACTOR</td>\n",
       "    </tr>\n",
       "    <tr>\n",
       "      <th>28419</th>\n",
       "      <td>528</td>\n",
       "      <td>tm989783</td>\n",
       "      <td>Jim Cummings</td>\n",
       "      <td>Various Characters (voice)</td>\n",
       "      <td>ACTOR</td>\n",
       "    </tr>\n",
       "    <tr>\n",
       "      <th>29863</th>\n",
       "      <td>528</td>\n",
       "      <td>tm1142249</td>\n",
       "      <td>Jim Cummings</td>\n",
       "      <td>Pete (voice)</td>\n",
       "      <td>ACTOR</td>\n",
       "    </tr>\n",
       "  </tbody>\n",
       "</table>\n",
       "<p>61 rows × 5 columns</p>\n",
       "</div>"
      ],
      "text/plain": [
       "       person_id         id          name  \\\n",
       "2898         528    tm49092  Jim Cummings   \n",
       "3106         528    ts11857  Jim Cummings   \n",
       "3423         528      ts233  Jim Cummings   \n",
       "3782         528    ts21976  Jim Cummings   \n",
       "4493         528   tm113629  Jim Cummings   \n",
       "...          ...        ...           ...   \n",
       "19298        528    ts20151  Jim Cummings   \n",
       "23022        528   tm349784  Jim Cummings   \n",
       "23641        528    ts58266  Jim Cummings   \n",
       "28419        528   tm989783  Jim Cummings   \n",
       "29863        528  tm1142249  Jim Cummings   \n",
       "\n",
       "                                               character   role  \n",
       "2898                                           Bullet #2  ACTOR  \n",
       "3106   Monterey Jack / Fat Cat / Professor Norton Nim...  ACTOR  \n",
       "3423                                 Zummi Gummi (voice)  ACTOR  \n",
       "3782                    Winnie-the-Pooh / Tigger (voice)  ACTOR  \n",
       "4493         ED the Hyena (voice) / Scar (singing voice)  ACTOR  \n",
       "...                                                  ...    ...  \n",
       "19298                                       Pete (voice)  ACTOR  \n",
       "23022                   Winnie the Pooh / Tigger (voice)  ACTOR  \n",
       "23641                                 Hammerhead (voice)  ACTOR  \n",
       "28419                         Various Characters (voice)  ACTOR  \n",
       "29863                                       Pete (voice)  ACTOR  \n",
       "\n",
       "[61 rows x 5 columns]"
      ]
     },
     "execution_count": 29,
     "metadata": {},
     "output_type": "execute_result"
    }
   ],
   "source": [
    "df2.query(\"name=='Jim Cummings' & role=='ACTOR'\")"
   ]
  },
  {
   "cell_type": "code",
   "execution_count": 30,
   "id": "ea49e4cf",
   "metadata": {},
   "outputs": [
    {
     "data": {
      "text/html": [
       "<div>\n",
       "<style scoped>\n",
       "    .dataframe tbody tr th:only-of-type {\n",
       "        vertical-align: middle;\n",
       "    }\n",
       "\n",
       "    .dataframe tbody tr th {\n",
       "        vertical-align: top;\n",
       "    }\n",
       "\n",
       "    .dataframe thead th {\n",
       "        text-align: right;\n",
       "    }\n",
       "</style>\n",
       "<table border=\"1\" class=\"dataframe\">\n",
       "  <thead>\n",
       "    <tr style=\"text-align: right;\">\n",
       "      <th></th>\n",
       "      <th>person_id</th>\n",
       "      <th>id</th>\n",
       "      <th>name</th>\n",
       "      <th>character</th>\n",
       "      <th>role</th>\n",
       "    </tr>\n",
       "  </thead>\n",
       "  <tbody>\n",
       "    <tr>\n",
       "      <th>65</th>\n",
       "      <td>44101</td>\n",
       "      <td>tm89464</td>\n",
       "      <td>George Seaton</td>\n",
       "      <td>NaN</td>\n",
       "      <td>DIRECTOR</td>\n",
       "    </tr>\n",
       "    <tr>\n",
       "      <th>79</th>\n",
       "      <td>23438</td>\n",
       "      <td>tm61729</td>\n",
       "      <td>James Algar</td>\n",
       "      <td>NaN</td>\n",
       "      <td>DIRECTOR</td>\n",
       "    </tr>\n",
       "    <tr>\n",
       "      <th>80</th>\n",
       "      <td>7712</td>\n",
       "      <td>tm61729</td>\n",
       "      <td>Clyde Geronimi</td>\n",
       "      <td>NaN</td>\n",
       "      <td>DIRECTOR</td>\n",
       "    </tr>\n",
       "    <tr>\n",
       "      <th>81</th>\n",
       "      <td>25067</td>\n",
       "      <td>tm61729</td>\n",
       "      <td>Jack Kinney</td>\n",
       "      <td>NaN</td>\n",
       "      <td>DIRECTOR</td>\n",
       "    </tr>\n",
       "    <tr>\n",
       "      <th>105</th>\n",
       "      <td>23446</td>\n",
       "      <td>tm61052</td>\n",
       "      <td>Wilfred Jackson</td>\n",
       "      <td>NaN</td>\n",
       "      <td>DIRECTOR</td>\n",
       "    </tr>\n",
       "    <tr>\n",
       "      <th>...</th>\n",
       "      <td>...</td>\n",
       "      <td>...</td>\n",
       "      <td>...</td>\n",
       "      <td>...</td>\n",
       "      <td>...</td>\n",
       "    </tr>\n",
       "    <tr>\n",
       "      <th>30674</th>\n",
       "      <td>807095</td>\n",
       "      <td>tm1314337</td>\n",
       "      <td>Brendan Walter</td>\n",
       "      <td>NaN</td>\n",
       "      <td>DIRECTOR</td>\n",
       "    </tr>\n",
       "    <tr>\n",
       "      <th>30675</th>\n",
       "      <td>2763559</td>\n",
       "      <td>tm1314337</td>\n",
       "      <td>Jacob Bixenman</td>\n",
       "      <td>NaN</td>\n",
       "      <td>DIRECTOR</td>\n",
       "    </tr>\n",
       "    <tr>\n",
       "      <th>30680</th>\n",
       "      <td>2753462</td>\n",
       "      <td>tm1299578</td>\n",
       "      <td>William Pinkney III</td>\n",
       "      <td>NaN</td>\n",
       "      <td>DIRECTOR</td>\n",
       "    </tr>\n",
       "    <tr>\n",
       "      <th>30687</th>\n",
       "      <td>412947</td>\n",
       "      <td>tm1075680</td>\n",
       "      <td>Kevin Bachar</td>\n",
       "      <td>NaN</td>\n",
       "      <td>DIRECTOR</td>\n",
       "    </tr>\n",
       "    <tr>\n",
       "      <th>30688</th>\n",
       "      <td>363792</td>\n",
       "      <td>tm1227149</td>\n",
       "      <td>Adam Geiger</td>\n",
       "      <td>NaN</td>\n",
       "      <td>DIRECTOR</td>\n",
       "    </tr>\n",
       "  </tbody>\n",
       "</table>\n",
       "<p>1567 rows × 5 columns</p>\n",
       "</div>"
      ],
      "text/plain": [
       "       person_id         id                 name character      role\n",
       "65         44101    tm89464        George Seaton       NaN  DIRECTOR\n",
       "79         23438    tm61729          James Algar       NaN  DIRECTOR\n",
       "80          7712    tm61729       Clyde Geronimi       NaN  DIRECTOR\n",
       "81         25067    tm61729          Jack Kinney       NaN  DIRECTOR\n",
       "105        23446    tm61052      Wilfred Jackson       NaN  DIRECTOR\n",
       "...          ...        ...                  ...       ...       ...\n",
       "30674     807095  tm1314337       Brendan Walter       NaN  DIRECTOR\n",
       "30675    2763559  tm1314337       Jacob Bixenman       NaN  DIRECTOR\n",
       "30680    2753462  tm1299578  William Pinkney III       NaN  DIRECTOR\n",
       "30687     412947  tm1075680         Kevin Bachar       NaN  DIRECTOR\n",
       "30688     363792  tm1227149          Adam Geiger       NaN  DIRECTOR\n",
       "\n",
       "[1567 rows x 5 columns]"
      ]
     },
     "execution_count": 30,
     "metadata": {},
     "output_type": "execute_result"
    }
   ],
   "source": [
    "df4=df2.query(\"role=='DIRECTOR'\")\n",
    "df4"
   ]
  },
  {
   "cell_type": "code",
   "execution_count": 31,
   "id": "222466f8",
   "metadata": {},
   "outputs": [
    {
     "data": {
      "text/plain": [
       "Wilfred Jackson        22\n",
       "John Lasseter          17\n",
       "Jack Hannah            17\n",
       "Paul Hoen              16\n",
       "Clyde Geronimi         15\n",
       "                       ..\n",
       "Manny Coto              1\n",
       "Bruce W. Smith          1\n",
       "Eric Bross              1\n",
       "Michael Lange           1\n",
       "William Pinkney III     1\n",
       "Name: name, Length: 899, dtype: int64"
      ]
     },
     "execution_count": 31,
     "metadata": {},
     "output_type": "execute_result"
    }
   ],
   "source": [
    "df4['name'].value_counts()"
   ]
  },
  {
   "cell_type": "code",
   "execution_count": null,
   "id": "a9e7ea65",
   "metadata": {},
   "outputs": [],
   "source": []
  }
 ],
 "metadata": {
  "kernelspec": {
   "display_name": "Python 3 (ipykernel)",
   "language": "python",
   "name": "python3"
  },
  "language_info": {
   "codemirror_mode": {
    "name": "ipython",
    "version": 3
   },
   "file_extension": ".py",
   "mimetype": "text/x-python",
   "name": "python",
   "nbconvert_exporter": "python",
   "pygments_lexer": "ipython3",
   "version": "3.10.1"
  }
 },
 "nbformat": 4,
 "nbformat_minor": 5
}
